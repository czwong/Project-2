{
 "cells": [
  {
   "cell_type": "code",
   "execution_count": 5,
   "metadata": {},
   "outputs": [],
   "source": [
    "#Import Dependencies\n",
    "import requests\n",
    "import json\n",
    "from pprint import pprint"
   ]
  },
  {
   "cell_type": "code",
   "execution_count": 6,
   "metadata": {},
   "outputs": [
    {
     "ename": "ModuleNotFoundError",
     "evalue": "No module named 'mysql'",
     "output_type": "error",
     "traceback": [
      "\u001b[1;31m---------------------------------------------------------------------------\u001b[0m",
      "\u001b[1;31mModuleNotFoundError\u001b[0m                       Traceback (most recent call last)",
      "\u001b[1;32m<ipython-input-6-15b87f61536b>\u001b[0m in \u001b[0;36m<module>\u001b[1;34m\u001b[0m\n\u001b[1;32m----> 1\u001b[1;33m \u001b[1;32mimport\u001b[0m \u001b[0mmysql\u001b[0m\u001b[1;33m.\u001b[0m\u001b[0mconnector\u001b[0m\u001b[1;33m\u001b[0m\u001b[1;33m\u001b[0m\u001b[0m\n\u001b[0m\u001b[0;32m      2\u001b[0m \u001b[1;33m\u001b[0m\u001b[0m\n\u001b[0;32m      3\u001b[0m mydb = mysql.connector.connect(\n\u001b[0;32m      4\u001b[0m   \u001b[0mhost\u001b[0m\u001b[1;33m=\u001b[0m\u001b[1;34m\"127.0.0.1\"\u001b[0m\u001b[1;33m,\u001b[0m\u001b[1;33m\u001b[0m\u001b[1;33m\u001b[0m\u001b[0m\n\u001b[0;32m      5\u001b[0m   \u001b[0muser\u001b[0m\u001b[1;33m=\u001b[0m\u001b[1;34m\"root\"\u001b[0m\u001b[1;33m,\u001b[0m\u001b[1;33m\u001b[0m\u001b[1;33m\u001b[0m\u001b[0m\n",
      "\u001b[1;31mModuleNotFoundError\u001b[0m: No module named 'mysql'"
     ]
    }
   ],
   "source": [
    "import mysql.connector\n",
    "\n",
    "mydb = mysql.connector.connect(\n",
    "  host=\"127.0.0.1\",\n",
    "  user=\"root\",\n",
    "  passwd=\"root\",\n",
    "  database=\"nfl_project\"\n",
    ")\n",
    "mycursor = mydb.cursor()"
   ]
  },
  {
   "cell_type": "code",
   "execution_count": null,
   "metadata": {},
   "outputs": [],
   "source": [
    "#Define API URL and Key\n",
    "base = \"https://api.seatgeek.com/2/events?\"\n",
    "key=\"MTY2Njc1Njd8MTU1ODA1NzIyNy44OQ\"\n",
    "start_date=\"2019-09-05\"\n",
    "sport=\"nfl\""
   ]
  },
  {
   "cell_type": "code",
   "execution_count": null,
   "metadata": {},
   "outputs": [],
   "source": [
    "#Build API String\n",
    "string=f\"{base}&client_id={key}&datetime_utc.gte={start_date}&type={sport}&per_page=1\"\n",
    "data=requests.get(string).json()"
   ]
  },
  {
   "cell_type": "code",
   "execution_count": null,
   "metadata": {},
   "outputs": [],
   "source": [
    "#Venue Data\n",
    "venue_id=data[\"events\"][0][\"venue\"][\"id\"]\n",
    "lat=data[\"events\"][0][\"venue\"][\"location\"][\"lat\"]\n",
    "lon=data[\"events\"][0][\"venue\"][\"location\"][\"lon\"]\n",
    "\n",
    "venue_data=(venue_id,lat,lon)\n",
    "venueInsert = \"INSERT INTO venues (venue_id, lat, lon) VALUES (%s, %s, %s)\"\n",
    "mycursor.execute(venueInsert, venue_id)\n"
   ]
  },
  {
   "cell_type": "code",
   "execution_count": null,
   "metadata": {},
   "outputs": [],
   "source": [
    "import mysql.connector\n",
    "\n",
    "mydb = mysql.connector.connect(\n",
    "  host=\"127.0.0.1\",\n",
    "  user=\"root\",\n",
    "  passwd=\"root\",\n",
    "  database=\"nfl_project\"\n",
    ")\n",
    "\n",
    "\n",
    "#=========================================\n",
    "# DROP TABLES\n",
    "#=========================================\n",
    "\n",
    "print('1.  NFL_PROJECT Schema: Dropping Tables')\n",
    "drop_cursor = mydb.cursor()\n",
    "\n",
    "#order is important when dropping due to fk constraints\n",
    "drop_cursor.execute('drop table if exists nfl_project.venues')\n",
    "drop_cursor.execute('drop table if exists nfl_project.games')\n",
    "drop_cursor.execute('drop table if exists nfl_project.pricing')\n",
    "\n",
    "\n",
    "\n",
    "#=========================================\n",
    "# CREATE TABLES\n",
    "#=========================================\n",
    "\n",
    "print('------------------------')\n",
    "print('2.  NFL_PROJECT Schema: Creating tables')\n",
    "\n",
    "mycursor = mydb.cursor()\n",
    "\n",
    "#states table\n",
    "mycursor.execute \\\n",
    "(\"create table nfl_project.venues \\\n",
    "  (venue_id int(10) not null\\\n",
    "  ,lat float \\\n",
    "  ,lon float \\\n",
    "  ,primary key (venue_id))\")\n",
    "\n",
    "mycursor.execute \\\n",
    "(\"create table nfl_project.games \\\n",
    "  (game_id int(10) not null\\\n",
    "  ,home varchar(20) \\\n",
    "  ,away varchar(20) \\\n",
    "  ,venue_id int(10)\\\n",
    "  ,date datetime\\\n",
    "  ,primary key (game_id))\")\n",
    "\n",
    "mycursor.execute \\\n",
    "(\"create table nfl_project.pricing \\\n",
    "  (game_id int(10) not null\\\n",
    "  ,low_price float \\\n",
    "  ,med_price float \\\n",
    "  ,high_price float \\\n",
    "  ,primary key (game_id))\")\n",
    "\n",
    "venueInsert = \"INSERT INTO venues (venue_id, lat, lon) VALUES (%s, %s, %s)\"\n",
    "gameInsert = \"INSERT INTO games (game_id, home, away, venue_id,date) VALUES ( %s, %s, %s, %s,%s)\"\n",
    "priceInsert = \"INSERT INTO pricing (game_id, low_price, med_price, high_price) VALUES (%s, %s, %s, %s)\"\n",
    "\n",
    "venue = (1,23.4,54.1)\n",
    "game =  (21,\"packers\",\"ravens\",1,\"1996-04-09\")\n",
    "price = (21,12,23,34)\n",
    "\n",
    "mycursor.execute(venueInsert, venue)\n",
    "mycursor.execute(gameInsert, game)\n",
    "mycursor.execute(priceInsert, price)\n",
    "mydb.commit()\n",
    "\n",
    "print('------------------------')\n",
    "print('--- Job Completed ---')\n",
    "\n"
   ]
  },
  {
   "cell_type": "code",
   "execution_count": null,
   "metadata": {},
   "outputs": [],
   "source": [
    "#Game Data\n",
    "game_id=data[\"events\"][0][\"id\"]\n",
    "home_team=data[\"events\"][0][\"performers\"][0][\"name\"]\n",
    "away_team=data[\"events\"][0][\"performers\"][1][\"name\"]\n",
    "date_time=data[\"events\"][0][\"datetime_utc\"]\n",
    "popularity=data[\"events\"][0]['score']\n",
    "\n",
    "game_object={\"Game ID\":game_id,\"Home Team\":home_team,\"Away Team\":away_team,\"Date/Time\":date_time,\"Venue ID\":venue_id}\n",
    "game_object"
   ]
  },
  {
   "cell_type": "code",
   "execution_count": null,
   "metadata": {},
   "outputs": [],
   "source": [
    "#Pricing Data\n",
    "low_price=data[\"events\"][0][\"stats\"][\"lowest_price\"]\n",
    "med_price=data[\"events\"][0][\"stats\"][\"median_price\"]\n",
    "high_price=data[\"events\"][0][\"stats\"][\"highest_price\"]\n",
    "\n",
    "pricing_object={\"Game ID\":game_id,\"Low Price\":low_price,\"Median Price\":med_price,\"High Price\":high_price}\n",
    "pricing_object"
   ]
  },
  {
   "cell_type": "code",
   "execution_count": null,
   "metadata": {},
   "outputs": [],
   "source": []
  }
 ],
 "metadata": {
  "kernelspec": {
   "display_name": "Python 3",
   "language": "python",
   "name": "python3"
  },
  "language_info": {
   "codemirror_mode": {
    "name": "ipython",
    "version": 3
   },
   "file_extension": ".py",
   "mimetype": "text/x-python",
   "name": "python",
   "nbconvert_exporter": "python",
   "pygments_lexer": "ipython3",
   "version": "3.6.7"
  }
 },
 "nbformat": 4,
 "nbformat_minor": 2
}
